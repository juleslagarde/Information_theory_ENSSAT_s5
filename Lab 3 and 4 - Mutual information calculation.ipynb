{
 "cells": [
  {
   "cell_type": "markdown",
   "metadata": {},
   "source": [
    "Authors : <br> \n",
    "Remy Cordeau <br>\n",
    "Jules Lagarde <br>\n",
    "\n",
    "# Lab 3"
   ]
  },
  {
   "cell_type": "code",
   "execution_count": 42,
   "metadata": {},
   "outputs": [],
   "source": [
    "import collections\n",
    "import math\n",
    "\n",
    "def entropy(l):\n",
    "    c = collections.Counter(l)\n",
    "    p = [v/len(l) for v in c.values()]\n",
    "    return -sum([p[i]*math.log2(p[i]) for i in range(len(p))])"
   ]
  },
  {
   "cell_type": "markdown",
   "metadata": {},
   "source": [
    "## Question 1"
   ]
  },
  {
   "cell_type": "code",
   "execution_count": 43,
   "metadata": {},
   "outputs": [],
   "source": [
    "import collections\n",
    "import numpy as np\n",
    "import math\n",
    "\n",
    "\n",
    "def mutual_entropy(x,y):\n",
    "    assert len(x)==len(y), \"X and Y doesn't have the same length :)\"\n",
    "    n = len(x)\n",
    "    x_vals, y_vals = list(set(x)),list(set(y))\n",
    "    x_vals_T = dict([(v,i) for i, v in enumerate(x_vals)])\n",
    "    y_vals_T = dict([(v,i) for i, v in enumerate(y_vals)])\n",
    "    t = np.zeros((len(x_vals), len(y_vals)))\n",
    "    cnt = collections.Counter(zip(x, y))\n",
    "    for (vx, vy), c in cnt.items():\n",
    "        t[x_vals_T[vx], y_vals_T[vy]]+=c\n",
    "    \n",
    "    t/=n\n",
    "    p_x = np.sum(t, axis=1)\n",
    "    p_y = np.sum(t, axis=0)\n",
    "            \n",
    "    i_x_y = 0\n",
    "    for vx, vy in cnt.keys():\n",
    "        i, j = x_vals_T[vx], y_vals_T[vy]\n",
    "        i_x_y +=  t[i, j]*math.log2( t[i, j]/(p_x[i]*p_y[j]))\n",
    "    \n",
    "    return 2*i_x_y/(entropy(x)+entropy(y))"
   ]
  },
  {
   "cell_type": "code",
   "execution_count": 44,
   "metadata": {},
   "outputs": [
    {
     "data": {
      "text/plain": [
       "0.8243697339838489"
      ]
     },
     "execution_count": 44,
     "metadata": {},
     "output_type": "execute_result"
    }
   ],
   "source": [
    "mutual_entropy(\n",
    "    np.array([3,2,4,4,2,1,2,2,3,3,1,2,5,1,5,4,3,3,2,3]),\n",
    "    np.array([1,2,2,2,2,5,2,2,1,1,5,2,5,5,5,2,1,1,2,1]))"
   ]
  },
  {
   "cell_type": "markdown",
   "metadata": {},
   "source": [
    "# Question 2"
   ]
  },
  {
   "cell_type": "code",
   "execution_count": 45,
   "metadata": {},
   "outputs": [],
   "source": [
    "from sklearn.cluster import KMeans\n",
    "import matplotlib.pyplot as plt\n",
    "import matplotlib.image as mpimg\n",
    "import numpy as np\n",
    "\n",
    "\n",
    "sbird_2d = np.array(mpimg.imread(\"bird_small.tiff\"))\n",
    "sbird = np.reshape(sbird_2d, (-1, 3))\n",
    "kmeans = KMeans(n_clusters=10, random_state=2)\n",
    "kmeans.fit(sbird)\n",
    "sbird_sd = np.uint8([kmeans.cluster_centers_[l] for l in kmeans.labels_])\n",
    "\n",
    "sbird_sd_2d = np.reshape(sbird_sd, sbird_2d.shape)\n",
    "mpimg.imsave(\"bird_small_sd.tiff\", sbird_sd_2d)"
   ]
  },
  {
   "cell_type": "code",
   "execution_count": 46,
   "metadata": {},
   "outputs": [],
   "source": [
    "r, g, b = np.array(list(zip(*sbird)))"
   ]
  },
  {
   "cell_type": "code",
   "execution_count": 47,
   "metadata": {},
   "outputs": [
    {
     "name": "stdout",
     "output_type": "stream",
     "text": [
      "I(r, g) 0.41710661314784503\n",
      "I(r, b) 0.34699495559853133\n",
      "I(b, g) 0.37353781164925576\n"
     ]
    }
   ],
   "source": [
    "print(\"I(r, g)\", mutual_entropy(r, g))\n",
    "print(\"I(r, b)\", mutual_entropy(r, b))\n",
    "print(\"I(b, g)\", mutual_entropy(b, g))"
   ]
  },
  {
   "cell_type": "markdown",
   "metadata": {},
   "source": [
    "The pair with the least mutual information is (r,b)"
   ]
  },
  {
   "cell_type": "code",
   "execution_count": 48,
   "metadata": {},
   "outputs": [],
   "source": [
    "r, g, b = np.array(list(zip(*sbird_sd)))"
   ]
  },
  {
   "cell_type": "code",
   "execution_count": 49,
   "metadata": {},
   "outputs": [
    {
     "name": "stdout",
     "output_type": "stream",
     "text": [
      "I(r, g) 1.0\n",
      "I(r, b) 1.0\n",
      "I(b, g) 1.0\n"
     ]
    }
   ],
   "source": [
    "print(\"I(r, g)\", mutual_entropy(r, g))\n",
    "print(\"I(r, b)\", mutual_entropy(r, b))\n",
    "print(\"I(b, g)\", mutual_entropy(b, g))"
   ]
  },
  {
   "cell_type": "markdown",
   "metadata": {},
   "source": [
    "If we do the same with the image after clustering (10 clusters), we can see that the mutual information is maxed out."
   ]
  },
  {
   "cell_type": "markdown",
   "metadata": {},
   "source": [
    "## Question 3"
   ]
  },
  {
   "cell_type": "code",
   "execution_count": 61,
   "metadata": {},
   "outputs": [
    {
     "data": {
      "image/png": "[encoded data removed]",
      "text/plain": [
       "<Figure size 432x288 with 1 Axes>"
      ]
     },
     "metadata": {
      "needs_background": "light"
     },
     "output_type": "display_data"
    }
   ],
   "source": [
    "rg = np.arange(10,30,2)\n",
    "data = []\n",
    "for k in rg:\n",
    "    km = KMeans(n_clusters=k, random_state=2)\n",
    "    km.fit(sbird)\n",
    "    sb_sd = np.uint8([km.cluster_centers_[l] for l in km.labels_])\n",
    "    r, g, b = np.array(list(zip(*sb_sd)))\n",
    "    data.append((mutual_entropy(r, g),mutual_entropy(r, b),mutual_entropy(b, g)))\n",
    "\n",
    "data = list(zip(*data)) # transpose the matrix (eg. change shape from (n, 3) to (3, n) ) \n",
    "plt.plot(rg, data[0], color=\"red\", label=\"I(r,g)\")\n",
    "plt.plot(rg, data[1], color=\"green\", label=\"I(r,b)\")\n",
    "plt.plot(rg, data[2], color=\"blue\", label=\"I(b,g)\")\n",
    "plt.legend()\n",
    "plt.show()"
   ]
  },
  {
   "cell_type": "markdown",
   "metadata": {},
   "source": [
    "We can see that the more clusters there are, the less mutual information there is. Moreover we can see that the mutual information variation is independant from pairs of color components"
   ]
  },
  {
   "cell_type": "markdown",
   "metadata": {},
   "source": [
    "# Lab 4\n",
    "## Question 1"
   ]
  },
  {
   "cell_type": "code",
   "execution_count": 51,
   "metadata": {},
   "outputs": [],
   "source": [
    "import scipy.io\n",
    "import numpy as np\n",
    "loaded_mat = scipy.io.loadmat('Indian_pines.mat')\n",
    "mat = loaded_mat[\"indian_pines\"]\n",
    "mat = mat.reshape(-1, 220)\n",
    "mat = mat.T\n",
    "mat_gt = scipy.io.loadmat('Indian_pines_gt.mat')\n",
    "mat_gt = mat_gt[\"indian_pines_gt\"]\n",
    "mat_gt = mat_gt.reshape(-1)"
   ]
  },
  {
   "cell_type": "code",
   "execution_count": 52,
   "metadata": {},
   "outputs": [
    {
     "data": {
      "text/plain": [
       "(145, 145, 220)"
      ]
     },
     "execution_count": 52,
     "metadata": {},
     "output_type": "execute_result"
    }
   ],
   "source": [
    "loaded_mat['indian_pines'].shape"
   ]
  },
  {
   "cell_type": "code",
   "execution_count": 64,
   "metadata": {},
   "outputs": [],
   "source": [
    "def argmax(args, func):\n",
    "    l = np.array([(a,func(a)) for a in args])\n",
    "    return l.T[0][np.argmax(l.T[1])]\n",
    "\n",
    "x_set = set(range(mat.shape[0]))\n",
    "z= [0]*20\n",
    "z[0] = int(argmax(x_set, lambda x:mutual_entropy(mat[x], mat_gt)))\n",
    "x_set.remove(z[0])"
   ]
  },
  {
   "cell_type": "markdown",
   "metadata": {},
   "source": [
    "$z_k = arg max_{x\\in{X}}\\backslash\\{z_1,..., z_{k-1}\\}\\bigg[I(y;x)-\\frac{1}{k-1}\\sum_{i=1}^{k-1}{I(z_i;x)}\\bigg]$"
   ]
  },
  {
   "cell_type": "code",
   "execution_count": 66,
   "metadata": {},
   "outputs": [
    {
     "name": "stdout",
     "output_type": "stream",
     "text": [
      "[21, 0, 0, 0, 0, 0, 0, 0, 0, 0, 0, 0, 0, 0, 0, 0, 0, 0, 0, 0]\n",
      "[21, 219, 0, 0, 0, 0, 0, 0, 0, 0, 0, 0, 0, 0, 0, 0, 0, 0, 0, 0]\n",
      "[21, 219, 217, 0, 0, 0, 0, 0, 0, 0, 0, 0, 0, 0, 0, 0, 0, 0, 0, 0]\n",
      "[21, 219, 217, 164, 0, 0, 0, 0, 0, 0, 0, 0, 0, 0, 0, 0, 0, 0, 0, 0]\n",
      "[21, 219, 217, 164, 159, 0, 0, 0, 0, 0, 0, 0, 0, 0, 0, 0, 0, 0, 0, 0]\n",
      "[21, 219, 217, 164, 159, 216, 0, 0, 0, 0, 0, 0, 0, 0, 0, 0, 0, 0, 0, 0]\n",
      "[21, 219, 217, 164, 159, 216, 109, 0, 0, 0, 0, 0, 0, 0, 0, 0, 0, 0, 0, 0]\n",
      "[21, 219, 217, 164, 159, 216, 109, 148, 0, 0, 0, 0, 0, 0, 0, 0, 0, 0, 0, 0]\n",
      "[21, 219, 217, 164, 159, 216, 109, 148, 163, 0, 0, 0, 0, 0, 0, 0, 0, 0, 0, 0]\n",
      "[21, 219, 217, 164, 159, 216, 109, 148, 163, 162, 0, 0, 0, 0, 0, 0, 0, 0, 0, 0]\n",
      "[21, 219, 217, 164, 159, 216, 109, 148, 163, 162, 214, 0, 0, 0, 0, 0, 0, 0, 0, 0]\n",
      "[21, 219, 217, 164, 159, 216, 109, 148, 163, 162, 214, 218, 0, 0, 0, 0, 0, 0, 0, 0]\n",
      "[21, 219, 217, 164, 159, 216, 109, 148, 163, 162, 214, 218, 110, 0, 0, 0, 0, 0, 0, 0]\n",
      "[21, 219, 217, 164, 159, 216, 109, 148, 163, 162, 214, 218, 110, 158, 0, 0, 0, 0, 0, 0]\n",
      "[21, 219, 217, 164, 159, 216, 109, 148, 163, 162, 214, 218, 110, 158, 215, 0, 0, 0, 0, 0]\n",
      "[21, 219, 217, 164, 159, 216, 109, 148, 163, 162, 214, 218, 110, 158, 215, 147, 0, 0, 0, 0]\n",
      "[21, 219, 217, 164, 159, 216, 109, 148, 163, 162, 214, 218, 110, 158, 215, 147, 108, 0, 0, 0]\n",
      "[21, 219, 217, 164, 159, 216, 109, 148, 163, 162, 214, 218, 110, 158, 215, 147, 108, 213, 0, 0]\n",
      "[21, 219, 217, 164, 159, 216, 109, 148, 163, 162, 214, 218, 110, 158, 215, 147, 108, 213, 157, 0]\n",
      "[21, 219, 217, 164, 159, 216, 109, 148, 163, 162, 214, 218, 110, 158, 215, 147, 108, 213, 157, 169]\n"
     ]
    }
   ],
   "source": [
    "print(z)\n",
    "for k in range(1,len(z)):\n",
    "    z[k] = int(argmax(x_set, lambda x:mutual_entropy(mat[x], mat_gt)-(1/k)*sum([mutual_entropy(mat[z[i]], mat[x]) for i in range(0,k)])))\n",
    "    x_set.remove(z[k])\n",
    "    print(z)"
   ]
  },
  {
   "cell_type": "markdown",
   "metadata": {},
   "source": [
    "## Question 2 and 3"
   ]
  },
  {
   "cell_type": "code",
   "execution_count": 67,
   "metadata": {},
   "outputs": [
    {
     "name": "stdout",
     "output_type": "stream",
     "text": [
      "[21, 219, 217, 164, 159, 216, 109, 148, 163, 162, 214, 218, 110, 158, 215, 147, 108, 213, 157, 169] 19\n"
     ]
    }
   ],
   "source": [
    "print(z, k)"
   ]
  },
  {
   "cell_type": "code",
   "execution_count": 77,
   "metadata": {
    "scrolled": true
   },
   "outputs": [
    {
     "name": "stdout",
     "output_type": "stream",
     "text": [
      "0.500832342449465\n",
      "0.5681331747919144\n",
      "0.5795481569560048\n",
      "0.575743162901308\n",
      "0.587871581450654\n",
      "0.5840665873959572\n",
      "0.5876337693222354\n",
      "0.5916765755053508\n",
      "0.5919143876337694\n",
      "0.597384066587396\n",
      "0.5971462544589774\n",
      "0.595719381688466\n",
      "0.6\n",
      "0.5914387633769321\n",
      "0.5940546967895363\n",
      "0.597384066587396\n",
      "0.5980975029726517\n",
      "0.6064209274673009\n",
      "0.6045184304399525\n",
      "0.6068965517241379\n"
     ]
    },
    {
     "data": {
      "image/png": "[encoded data removed]",
      "text/plain": [
       "<Figure size 432x288 with 1 Axes>"
      ]
     },
     "metadata": {
      "needs_background": "light"
     },
     "output_type": "display_data"
    }
   ],
   "source": [
    "from sklearn.neighbors import KNeighborsClassifier\n",
    "from sklearn.model_selection import train_test_split\n",
    "from sklearn.metrics import confusion_matrix\n",
    "from sklearn.preprocessing import StandardScaler\n",
    "import numpy as np\n",
    "\n",
    "\n",
    "scaler = StandardScaler()\n",
    "scaler.fit(mat)\n",
    "mat_norm = scaler.transform(mat)\n",
    "\n",
    "def plot(z):\n",
    "    rg = np.arange(1,len(z)+1,1)\n",
    "    data = []\n",
    "    for k in rg:\n",
    "        mat_s = np.array([mat_norm[i] for i in z[:k]])\n",
    "        mat_s_train, mat_s_test, mat_gt_train, mat_gt_test = train_test_split(mat_s.T, mat_gt, test_size=0.2, random_state=1)\n",
    "        knn = KNeighborsClassifier()\n",
    "        knn.fit(mat_s_train, mat_gt_train)\n",
    "\n",
    "        confusion_mat = np.array(confusion_matrix(knn.predict(mat_s_test), mat_gt_test))/len(mat_gt_test)\n",
    "        print(np.trace(confusion_mat))\n",
    "        data.append(np.trace(confusion_mat))\n",
    "\n",
    "    plt.plot(rg, data)\n",
    "\n",
    "plot(z)"
   ]
  },
  {
   "cell_type": "markdown",
   "metadata": {},
   "source": [
    "As expected, the trace of the confustion matrix increase as the number of bands does.\n",
    "## Question 4"
   ]
  },
  {
   "cell_type": "code",
   "execution_count": 78,
   "metadata": {},
   "outputs": [
    {
     "name": "stdout",
     "output_type": "stream",
     "text": [
      "[21, 219, 217, 164, 159, 216, 109, 148, 163, 162, 214, 218, 110, 158, 215, 147, 108, 213, 157, 169] \n",
      " [21, 219, 169, 147, 157, 109, 162, 216, 164, 148, 110, 213, 217, 214, 215, 158, 108, 163, 159, 218]\n",
      "0.500832342449465\n",
      "0.5681331747919144\n",
      "0.5743162901307968\n",
      "0.5821640903686088\n",
      "0.5916765755053508\n",
      "0.5892984542211653\n",
      "0.5902497027348396\n",
      "0.5985731272294889\n",
      "0.5921521997621878\n",
      "0.5938168846611177\n",
      "0.6009512485136742\n",
      "0.6000000000000001\n",
      "0.6002378121284185\n",
      "0.6045184304399525\n",
      "0.6028537455410227\n",
      "0.6028537455410227\n",
      "0.5959571938168847\n",
      "0.5990487514863259\n",
      "0.604756242568371\n",
      "0.6068965517241379\n"
     ]
    },
    {
     "data": {
      "image/png": "[encoded data removed]",
      "text/plain": [
       "<Figure size 432x288 with 1 Axes>"
      ]
     },
     "metadata": {
      "needs_background": "light"
     },
     "output_type": "display_data"
    }
   ],
   "source": [
    "import random \n",
    "\n",
    "z_shuffle = z.copy()\n",
    "random.shuffle(z_shuffle)\n",
    "print(z, '\\n', z_shuffle)\n",
    "plot(z_shuffle)"
   ]
  },
  {
   "cell_type": "markdown",
   "metadata": {
    "collapsed": true
   },
   "source": [
    "As expected, the trace continues to increase but discontinuously because the bands are present in a random order."
   ]
  },
  {
   "cell_type": "code",
   "execution_count": null,
   "metadata": {},
   "outputs": [],
   "source": []
  }
 ],
 "metadata": {
  "kernelspec": {
   "display_name": "Python 3",
   "language": "python",
   "name": "python3"
  },
  "language_info": {
   "codemirror_mode": {
    "name": "ipython",
    "version": 3
   },
   "file_extension": ".py",
   "mimetype": "text/x-python",
   "name": "python",
   "nbconvert_exporter": "python",
   "pygments_lexer": "ipython3",
   "version": "3.7.6"
  }
 },
 "nbformat": 4,
 "nbformat_minor": 4
}
