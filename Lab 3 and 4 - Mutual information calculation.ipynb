{
 "cells": [
  {
   "cell_type": "markdown",
   "metadata": {},
   "source": [
    "Authors : <br> \n",
    "Remy Cordeau <br>\n",
    "Jules Lagarde <br>\n",
    "\n",
    "# Lab 3"
   ]
  },
  {
   "cell_type": "code",
   "execution_count": 42,
   "metadata": {},
   "outputs": [],
   "source": [
    "import collections\n",
    "import math\n",
    "\n",
    "def entropy(l):\n",
    "    c = collections.Counter(l)\n",
    "    p = [v/len(l) for v in c.values()]\n",
    "    return -sum([p[i]*math.log2(p[i]) for i in range(len(p))])"
   ]
  },
  {
   "cell_type": "markdown",
   "metadata": {},
   "source": [
    "## Question 1"
   ]
  },
  {
   "cell_type": "code",
   "execution_count": 43,
   "metadata": {},
   "outputs": [],
   "source": [
    "import collections\n",
    "import numpy as np\n",
    "import math\n",
    "\n",
    "\n",
    "def mutual_entropy(x,y):\n",
    "    assert len(x)==len(y), \"X and Y doesn't have the same length :)\"\n",
    "    n = len(x)\n",
    "    x_vals, y_vals = list(set(x)),list(set(y))\n",
    "    x_vals_T = dict([(v,i) for i, v in enumerate(x_vals)])\n",
    "    y_vals_T = dict([(v,i) for i, v in enumerate(y_vals)])\n",
    "    t = np.zeros((len(x_vals), len(y_vals)))\n",
    "    cnt = collections.Counter(zip(x, y))\n",
    "    for (vx, vy), c in cnt.items():\n",
    "        t[x_vals_T[vx], y_vals_T[vy]]+=c\n",
    "    \n",
    "    t/=n\n",
    "    p_x = np.sum(t, axis=1)\n",
    "    p_y = np.sum(t, axis=0)\n",
    "            \n",
    "    i_x_y = 0\n",
    "    for vx, vy in cnt.keys():\n",
    "        i, j = x_vals_T[vx], y_vals_T[vy]\n",
    "        i_x_y +=  t[i, j]*math.log2( t[i, j]/(p_x[i]*p_y[j]))\n",
    "    \n",
    "    return 2*i_x_y/(entropy(x)+entropy(y))"
   ]
  },
  {
   "cell_type": "code",
   "execution_count": 44,
   "metadata": {},
   "outputs": [
    {
     "data": {
      "text/plain": [
       "0.8243697339838489"
      ]
     },
     "execution_count": 44,
     "metadata": {},
     "output_type": "execute_result"
    }
   ],
   "source": [
    "mutual_entropy(\n",
    "    np.array([3,2,4,4,2,1,2,2,3,3,1,2,5,1,5,4,3,3,2,3]),\n",
    "    np.array([1,2,2,2,2,5,2,2,1,1,5,2,5,5,5,2,1,1,2,1]))"
   ]
  },
  {
   "cell_type": "markdown",
   "metadata": {},
   "source": [
    "# Question 2"
   ]
  },
  {
   "cell_type": "code",
   "execution_count": 45,
   "metadata": {},
   "outputs": [],
   "source": [
    "from sklearn.cluster import KMeans\n",
    "import matplotlib.pyplot as plt\n",
    "import matplotlib.image as mpimg\n",
    "import numpy as np\n",
    "\n",
    "\n",
    "sbird_2d = np.array(mpimg.imread(\"bird_small.tiff\"))\n",
    "sbird = np.reshape(sbird_2d, (-1, 3))\n",
    "kmeans = KMeans(n_clusters=10, random_state=2)\n",
    "kmeans.fit(sbird)\n",
    "sbird_sd = np.uint8([kmeans.cluster_centers_[l] for l in kmeans.labels_])\n",
    "\n",
    "sbird_sd_2d = np.reshape(sbird_sd, sbird_2d.shape)\n",
    "mpimg.imsave(\"bird_small_sd.tiff\", sbird_sd_2d)"
   ]
  },
  {
   "cell_type": "code",
   "execution_count": 46,
   "metadata": {},
   "outputs": [],
   "source": [
    "r, g, b = np.array(list(zip(*sbird)))"
   ]
  },
  {
   "cell_type": "code",
   "execution_count": 47,
   "metadata": {},
   "outputs": [
    {
     "name": "stdout",
     "output_type": "stream",
     "text": [
      "I(r, g) 0.41710661314784503\n",
      "I(r, b) 0.34699495559853133\n",
      "I(b, g) 0.37353781164925576\n"
     ]
    }
   ],
   "source": [
    "print(\"I(r, g)\", mutual_entropy(r, g))\n",
    "print(\"I(r, b)\", mutual_entropy(r, b))\n",
    "print(\"I(b, g)\", mutual_entropy(b, g))"
   ]
  },
  {
   "cell_type": "markdown",
   "metadata": {},
   "source": [
    "The pair with the least mutual information is (r,b)"
   ]
  },
  {
   "cell_type": "code",
   "execution_count": 48,
   "metadata": {},
   "outputs": [],
   "source": [
    "r, g, b = np.array(list(zip(*sbird_sd)))"
   ]
  },
  {
   "cell_type": "code",
   "execution_count": 49,
   "metadata": {},
   "outputs": [
    {
     "name": "stdout",
     "output_type": "stream",
     "text": [
      "I(r, g) 1.0\n",
      "I(r, b) 1.0\n",
      "I(b, g) 1.0\n"
     ]
    }
   ],
   "source": [
    "print(\"I(r, g)\", mutual_entropy(r, g))\n",
    "print(\"I(r, b)\", mutual_entropy(r, b))\n",
    "print(\"I(b, g)\", mutual_entropy(b, g))"
   ]
  },
  {
   "cell_type": "markdown",
   "metadata": {},
   "source": [
    "If we do the same with the image after clustering (10 clusters), we can see that the mutual information is maxed out."
   ]
  },
  {
   "cell_type": "markdown",
   "metadata": {},
   "source": [
    "## Question 3"
   ]
  },
  {
   "cell_type": "code",
   "execution_count": 61,
   "metadata": {},
   "outputs": [
    {
     "data": {
      "image/png": "[encoded data removed]",
      "text/plain": [
       "<Figure size 432x288 with 1 Axes>"
      ]
     },
     "metadata": {
      "needs_background": "light"
     },
     "output_type": "display_data"
    }
   ],
   "source": [
    "rg = np.arange(10,30,2)\n",
    "data = []\n",
    "for k in rg:\n",
    "    km = KMeans(n_clusters=k, random_state=2)\n",
    "    km.fit(sbird)\n",
    "    sb_sd = np.uint8([km.cluster_centers_[l] for l in km.labels_])\n",
    "    r, g, b = np.array(list(zip(*sb_sd)))\n",
    "    data.append((mutual_entropy(r, g),mutual_entropy(r, b),mutual_entropy(b, g)))\n",
    "\n",
    "data = list(zip(*data)) # transpose the matrix (eg. change shape from (n, 3) to (3, n) ) \n",
    "plt.plot(rg, data[0], color=\"red\", label=\"I(r,g)\")\n",
    "plt.plot(rg, data[1], color=\"green\", label=\"I(r,b)\")\n",
    "plt.plot(rg, data[2], color=\"blue\", label=\"I(b,g)\")\n",
    "plt.legend()\n",
    "plt.show()"
   ]
  },
  {
   "cell_type": "markdown",
   "metadata": {},
   "source": [
    "We can see that the more clusters there are, the less mutual information there is. Moreover we can see that the mutual information variation is independant from pairs of color components"
   ]
  },
  {
   "cell_type": "markdown",
   "metadata": {},
   "source": [
    "# Lab 4\n",
    "## Question 1"
   ]
  },
  {
   "cell_type": "code",
   "execution_count": 51,
   "metadata": {},
   "outputs": [],
   "source": [
    "import scipy.io\n",
    "import numpy as np\n",
    "loaded_mat = scipy.io.loadmat('Indian_pines.mat')\n",
    "mat = loaded_mat[\"indian_pines\"]\n",
    "mat = mat.reshape(-1, 220)\n",
    "mat = mat.T\n",
    "mat_gt = scipy.io.loadmat('Indian_pines_gt.mat')\n",
    "mat_gt = mat_gt[\"indian_pines_gt\"]\n",
    "mat_gt = mat_gt.reshape(-1)"
   ]
  },
  {
   "cell_type": "code",
   "execution_count": 52,
   "metadata": {},
   "outputs": [
    {
     "data": {
      "text/plain": [
       "(145, 145, 220)"
      ]
     },
     "execution_count": 52,
     "metadata": {},
     "output_type": "execute_result"
    }
   ],
   "source": [
    "loaded_mat['indian_pines'].shape"
   ]
  },
  {
   "cell_type": "code",
   "execution_count": 53,
   "metadata": {},
   "outputs": [],
   "source": [
    "def argmax(args, func):\n",
    "    l = np.array([(a,func(a)) for a in args])\n",
    "    return l.T[0][np.argmax(l.T[1])]\n",
    "\n",
    "x_set = set(range(mat.shape[0]))\n",
    "z= [0]*20\n",
    "z[0] = int(argmax(x_set, lambda x:mutual_entropy(mat[x], mat_gt)))\n",
    "x_set.remove(z[0])"
   ]
  },
  {
   "cell_type": "markdown",
   "metadata": {},
   "source": [
    "$z_k = arg max_{x\\in{X}}\\backslash\\{z_1,..., z_{k-1}\\}\\bigg[I(y;x)-\\frac{1}{k-1}\\sum_{i=1}^{k-1}{I(z_i;x)}\\bigg]$"
   ]
  },
  {
   "cell_type": "code",
   "execution_count": null,
   "metadata": {},
   "outputs": [],
   "source": [
    "print(z)\n",
    "for k in range(1,len(z)):\n",
    "    z[k] = int(argmax(x_set, lambda x:mutual_entropy(mat[x], mat_gt)-(1/(k-1))*sum([mutual_entropy(mat[z[i]], mat[x]) for i in range(0,k)])))\n",
    "    x_set.remove(z[k])\n",
    "    print(z)"
   ]
  },
  {
   "cell_type": "markdown",
   "metadata": {},
   "source": [
    "## Question 2 and 3"
   ]
  },
  {
   "cell_type": "code",
   "execution_count": null,
   "metadata": {},
   "outputs": [],
   "source": [
    "print(z, k)"
   ]
  },
  {
   "cell_type": "code",
   "execution_count": 63,
   "metadata": {
    "scrolled": true
   },
   "outputs": [
    {
     "name": "stdout",
     "output_type": "stream",
     "text": [
      "0.5065398335315101\n",
      "0.5816884661117717\n",
      "0.5864447086801428\n",
      "0.5933412604042807\n",
      "0.5931034482758621\n",
      "0.5912009512485136\n",
      "0.5862068965517242\n",
      "0.5907253269916767\n",
      "0.6349583828775268\n",
      "0.6337693222354341\n"
     ]
    },
    {
     "data": {
      "image/png": "[encoded data removed]",
      "text/plain": [
       "<Figure size 432x288 with 1 Axes>"
      ]
     },
     "metadata": {
      "needs_background": "light"
     },
     "output_type": "display_data"
    }
   ],
   "source": [
    "from sklearn.neighbors import KNeighborsClassifier\n",
    "from sklearn.model_selection import train_test_split\n",
    "from sklearn.metrics import confusion_matrix\n",
    "from sklearn.preprocessing import StandardScaler\n",
    "import numpy as np\n",
    "\n",
    "\n",
    "scaler = StandardScaler()\n",
    "scaler.fit(mat)\n",
    "mat_norm = scaler.transform(mat)\n",
    "\n",
    "def plot(z):\n",
    "    rg = np.arange(1,len(z)+1,1)\n",
    "    data = []\n",
    "    for k in rg:\n",
    "        mat_s = np.array([mat_norm[i] for i in z[:k]])\n",
    "        mat_s_train, mat_s_test, mat_gt_train, mat_gt_test = train_test_split(mat_s.T, mat_gt, test_size=0.2, random_state=0)\n",
    "        knn = KNeighborsClassifier()\n",
    "        knn.fit(mat_s_train, mat_gt_train)\n",
    "\n",
    "        confusion_mat = np.array(confusion_matrix(knn.predict(mat_s_test), mat_gt_test))/len(mat_gt_test)\n",
    "        print(np.trace(confusion_mat))\n",
    "        data.append(np.trace(confusion_mat))\n",
    "\n",
    "    plt.plot(rg, data)\n",
    "\n",
    "plot(z[:10])"
   ]
  },
  {
   "cell_type": "markdown",
   "metadata": {},
   "source": [
    "As expected, the trace of the confustion matrix increase as the number of bands does."
   ]
  },
  {
   "cell_type": "markdown",
   "metadata": {},
   "source": [
    "## Question 4"
   ]
  },
  {
   "cell_type": "code",
   "execution_count": null,
   "metadata": {},
   "outputs": [],
   "source": [
    "import random \n",
    "\n",
    "z_shuffle = z[:10]\n",
    "random.shuffle(z_shuffle)\n",
    "print(z, '\\n', z_shuffle)\n",
    "plot(z_shuffle)"
   ]
  },
  {
   "cell_type": "markdown",
   "metadata": {
    "collapsed": true
   },
   "source": [
    "As expected, the trace continues to increase but discontinuously because the bands are present in a random order."
   ]
  },
  {
   "cell_type": "code",
   "execution_count": null,
   "metadata": {},
   "outputs": [],
   "source": []
  }
 ],
 "metadata": {
  "kernelspec": {
   "display_name": "Python 3",
   "language": "python",
   "name": "python3"
  },
  "language_info": {
   "codemirror_mode": {
    "name": "ipython",
    "version": 3
   },
   "file_extension": ".py",
   "mimetype": "text/x-python",
   "name": "python",
   "nbconvert_exporter": "python",
   "pygments_lexer": "ipython3",
   "version": "3.7.6"
  }
 },
 "nbformat": 4,
 "nbformat_minor": 4
}
