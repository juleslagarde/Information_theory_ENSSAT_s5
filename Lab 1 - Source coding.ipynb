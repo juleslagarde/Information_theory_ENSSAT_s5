{
 "cells": [
  {
   "cell_type": "markdown",
   "metadata": {},
   "source": [
    "Authors : <br> \n",
    "Remy Cordeau <br>\n",
    "Jules Lagarde <br>\n",
    "# Question 1 \n",
    "\n",
    "Let $S$ be a finite set and a discrete random variable with possible values $\\{x_1,...,x_n\\}$ of probabilities $\\{p(x_1),...,p(x_n)\\}$. The entropy (in bit/symbol) of the source $S$ is defined as:\n",
    "\n",
    "$H(S) = -\\sum_{i=1}^{n} p(x_i)\\log_2(p(x_i))$.\n",
    "\n",
    "For any given random data vector $X$ of arbitrary length taking values into $S$, we compute the  probabilities $\\{p(x_1),...,p(x_n)\\}$ by using the following formula: \n",
    "\n",
    "$\\forall i \\in{S}, p(x_i) = \\frac{\\text{number of occurences of i in X}}{\\text{size of X}}.$\n",
    "\n",
    "To count the number of occurences of each symbol of $S$ in $X$, we use the Python function collections.Counter. \n",
    "\n",
    "The following code snippet returns the entropy of a random data vector $X$ of arbitrary length taking values into a set $S$."
   ]
  },
  {
   "cell_type": "code",
   "execution_count": 1,
   "metadata": {},
   "outputs": [],
   "source": [
    "import collections\n",
    "import math\n",
    "\n",
    "def entropy(l):\n",
    "    c = collections.Counter(l)\n",
    "    p = [v/len(l) for v in c.values()]\n",
    "    return -sum([p[i]*math.log2(p[i]) for i in range(len(p))])\n"
   ]
  },
  {
   "cell_type": "markdown",
   "metadata": {},
   "source": [
    "# Question 2\n",
    "\n",
    "The following code snippet checks that a sufficiently long vector of random independent, equiprobable bits, has entropy $H = 1$ \n",
    "bit/symbol. \n",
    "\n",
    "We generate a random vector $d$ of size $100$ and taking values into $S = \\{0,1\\}$. As we use the Python function randint, each bit is independant from the others and equiprobable."
   ]
  },
  {
   "cell_type": "code",
   "execution_count": 2,
   "metadata": {},
   "outputs": [
    {
     "name": "stdout",
     "output_type": "stream",
     "text": [
      "[1, 1, 0, 1, 0, 1, 0, 1, 1, 0, 0, 1, 1, 1, 0, 1, 1, 1, 0, 1, 1, 1, 0, 1, 0, 1, 0, 0, 1, 0, 1, 1, 0, 0, 0, 0, 0, 1, 0, 1, 0, 1, 0, 0, 1, 0, 1, 0, 1, 1, 0, 0, 1, 1, 1, 1, 1, 1, 1, 1, 0, 0, 1, 0, 1, 0, 1, 1, 1, 0, 0, 1, 1, 1, 0, 0, 1, 0, 1, 0, 0, 0, 1, 0, 1, 1, 1, 1, 0, 0, 0, 1, 1, 0, 1, 1, 1, 0, 0, 1]\n"
     ]
    },
    {
     "data": {
      "text/plain": [
       "0.9895875212220557"
      ]
     },
     "execution_count": 2,
     "metadata": {},
     "output_type": "execute_result"
    }
   ],
   "source": [
    "from random import randint\n",
    "d=[randint(0,1) for _ in range(100)]\n",
    "print(d)\n",
    "entropy(d)"
   ]
  },
  {
   "cell_type": "markdown",
   "metadata": {},
   "source": [
    "# Question 3\n",
    "\n",
    "The following code snippet draws the variations of the entropy as a function of $\\alpha = p(X=0)$ for a binomial law (blue curve) and for an uniform law (orange curve)."
   ]
  },
  {
   "cell_type": "code",
   "execution_count": 3,
   "metadata": {},
   "outputs": [
    {
     "data": {
      "image/png": "[encoded data removed]",
      "text/plain": [
       "<Figure size 432x288 with 1 Axes>"
      ]
     },
     "metadata": {
      "needs_background": "light"
     },
     "output_type": "display_data"
    }
   ],
   "source": [
    "import matplotlib.pyplot as plt\n",
    "import numpy as np\n",
    "\n",
    "sample = 1000\n",
    "x = np.arange(0,1,1/sample) #generating an array of 𝛼 with a 0.001 step\n",
    "\n",
    "plt.plot(x, [entropy(np.random.binomial(1, 1-i, size=1000)) for i in x]) #drawing entropy for each 𝛼 (binomial law)\n",
    "plt.plot(x, [entropy([1]*int((1-i)*sample)+[0]*int(i*sample)) for i in x]) #drawing entropy for each 𝛼 (exact proportion)\n",
    "pass\n"
   ]
  },
  {
   "cell_type": "markdown",
   "metadata": {},
   "source": [
    "# Question 4\n",
    "\n",
    "Let $S$ be a discrete source with memory using the binary alphabet $𝒜 = \\{0,1\\}$.\n",
    "\n",
    "To compute the entropy of such a source, accounting for the memory effect would require conditioning the entropy of the current\n",
    "symbol with respect to its past up to some order $q$ :\n",
    "\n",
    "   \\begin{equation*}\n",
    "   H(x_k) = \\sum_{𝒜} H(x_k | x_{k-1},x_{k-2},...,x_{k-q})p(x_k | x_{k-1},x_{k-2},...,x_{k-q})\n",
    "   \\end{equation*}\n",
    "where 𝒜 is the set of all possible outputs of the random variables $\\{x_{k-1}, x_{k-2},..., x_{k-q}\\}$.\n",
    "\n",
    "We consider here the case of a first order memory effect $q = 1$ (Markov chain). Thus, we have :\n",
    "\n",
    "$\\begin{equation*}H(x_k) = \\sum_{𝒜} H(x_k | x_{k-1})p(x_{k-1})\\end{equation*}$\n",
    "\n",
    "A first order Markov chain is completely defined by its transition matrix $\\Pi$: \n",
    "\n",
    "$$\\Pi = \\begin{pmatrix} p(x_k = 0 | x_{k-1} = 0) & p(x_k = 1 | x_{k-1} = 0) \\\\ p(x_k = 0 | x_{k-1} = 1) & p(x_k = 1 | x_{k-1} = 1) \\end{pmatrix} = \\begin{pmatrix} p_{00} & p_{10} \\\\ p_{01} & p_{11}\\end{pmatrix}$$\n",
    "\n",
    "We define $p_0$ and $p_1$ as follows: $p_0 = p(x_k = 0)$ and $p_1 = p(x_k = 1) = 1 - p_0$.\n",
    "\n",
    "Moreover, the Markov chain is stationnary, so $P = P\\Pi$ where $P = \\begin{pmatrix} p_0 & p_1 \\end{pmatrix}$.\n",
    "\n",
    "Thus $P = \\begin{pmatrix} p_0 & p_1 \\end{pmatrix}\\begin{pmatrix} p_{00} & p_{10} \\\\ p_{01} & p_{11}\\end{pmatrix}\n",
    "\\Leftrightarrow \\bigg\\{ \\begin{array}{11}p_0 = p_0 p_{00} + p_1 p_{01} \\\\ p_1 = p_0 p_{10} + p_1 p_{11}\\end{array}$\n",
    "$\\Leftrightarrow \\bigg\\{ \\begin{array}{11}p_0 = p_0 p_{00} + (1-p_0)p_{01} \\\\ p_1 = p_0 p_{10} + p_1 p_{11}\\end{array}$\n",
    "$\\Leftrightarrow \\bigg\\{ \\begin{array}{11}p_0(1-p_{00}+ p_{01}) = p_{01} \\\\ p_1 = p_0 p_{10} + p_1 p_{11}\\end{array}$\n",
    "\n",
    "Finally: $\\boxed{ \\begin{array}{11} p_0 = \\frac{p_{01}}{1-p_{00}+p_{01}} \\\\ p_1 = 1-p_0 = 1-\\frac{p_{01}}{1-p_{00}+p_{01}}= \\frac{1 - p_{00}}{1-p_{00}+p_{01}} \\end{array}}$\n",
    "\n",
    "Moreover: $\\begin{equation*}H(x_k) = \\sum_{𝒜} H(x_k | x_{k-1})p(x_{k-1})\\end{equation*}$\n",
    "\n",
    "$=H(x_k|x_{k-1}=0)p_0 + H(x_k|x_{k-1}=1)p_1$\n",
    "\n",
    "$= -\\left[p(x_k=0|x_{k-1}=0)\\log_2(x_k=0|x_{k-1}=0) + p(x_k=1|x_{k-1}=0)\\log_2(x_k=1|x_{k-1}=0)\\right]p_0 \n",
    "-\\left[p(x_k=0|x_{k-1}=1)\\log_2(x_k=0|x_{k-1}=1) + p(x_k=1|x_{k-1}=1)\\log_2(x_k=1|x_{k-1}=1)\\right]p_1$\n",
    "\n",
    "$=\\boxed{\\begin{array}{rcl}-(p_{00}\\log_2(p_{00})+p_{10}\\log_2(p_{10}))p_0 - (p_{01}\\log_2(p_{01}) + p_{11}\\log_2(p_{11}))p_1\\end{array}}$\n"
   ]
  },
  {
   "cell_type": "markdown",
   "metadata": {},
   "source": [
    "# Question 5\n",
    "\n",
    "First, we open the image by using the IPython library."
   ]
  },
  {
   "cell_type": "code",
   "execution_count": 4,
   "metadata": {},
   "outputs": [
    {
     "name": "stdout",
     "output_type": "stream",
     "text": [
      "PNG (2550, 3300) P\n"
     ]
    }
   ],
   "source": [
    "from PIL import Image\n",
    "\n",
    "img = Image.open(\"scan.png\", mode=\"r\")\n",
    "print(img.format, img.size, img.mode)\n",
    "im = np.array(img.getdata()) #getting pixel values of the image(0 (resp.) 1 if black (resp. white))"
   ]
  },
  {
   "cell_type": "markdown",
   "metadata": {},
   "source": [
    "Then, we run the following function that computes the transmission matrix defined at the previous question and returns the entropy of the pixel values of the image, using Pillow library."
   ]
  },
  {
   "cell_type": "code",
   "execution_count": 5,
   "metadata": {},
   "outputs": [],
   "source": [
    "import collections\n",
    "from math import log2\n",
    "import numpy as np\n",
    "\n",
    "def entropy_markov_chain(l):\n",
    "    pi = collections.Counter([ (l[i], l[i+1]) for i in range(len(l)-1)])#counts occurences of each pair (0,0),(0,1),(1,0) and (1,1)\n",
    "    pi = dict([(k, v/len(im)) for k,v in pi.items()]) #computes probabilities for each pair\n",
    "    p0 = pi[(0,1)]/(1-pi[(0,0)]+pi[(0,1)]) #computes p0 and p1 using formulae above\n",
    "    p1 = 1-p0\n",
    "    #returns entropy of the source with memory\n",
    "    return -(pi[(0,0)]*log2(pi[(0,0)])+pi[(1,0)]*log2(pi[(1,0)]))*p0\\\n",
    "           -(pi[(0,1)]*log2(pi[(0,1)])+pi[(1,1)]*log2(pi[(1,1)]))*p1"
   ]
  },
  {
   "cell_type": "code",
   "execution_count": 6,
   "metadata": {},
   "outputs": [
    {
     "data": {
      "text/plain": [
       "0.16776467500144174"
      ]
     },
     "execution_count": 6,
     "metadata": {},
     "output_type": "execute_result"
    }
   ],
   "source": [
    "entropy_markov_chain(im)"
   ]
  },
  {
   "cell_type": "code",
   "execution_count": 7,
   "metadata": {},
   "outputs": [
    {
     "data": {
      "text/plain": [
       "0.2833745831777161"
      ]
     },
     "execution_count": 7,
     "metadata": {},
     "output_type": "execute_result"
    }
   ],
   "source": [
    "entropy(im)"
   ]
  },
  {
   "cell_type": "markdown",
   "metadata": {},
   "source": [
    "We can see that when we take into consideration the spacial dependancy between pixels, the entropy is lower than when the source is memoryless.\n",
    "\n",
    "Indeed, in the first case, a pixel contains less information because it is possible to infer its value from its adjacent pixels."
   ]
  },
  {
   "cell_type": "code",
   "execution_count": 8,
   "metadata": {},
   "outputs": [
    {
     "name": "stdout",
     "output_type": "stream",
     "text": [
      "8415000\n",
      "1430550.0\n"
     ]
    }
   ],
   "source": [
    "print(len(im))\n",
    "print(len(im)*0.17)"
   ]
  },
  {
   "cell_type": "markdown",
   "metadata": {},
   "source": [
    "# Question 6 - Run Length Encoding\n",
    "\n",
    "The first bits says if the sequence starts with $0$ or $1$.\n",
    "\n",
    "Then we build an array of n-bits long counters that count the length of sub-sequences containing the same digit. If the counter reaches $2^n$ we don't change digit, the next n-bits will still be representing the same digit. If not, the next n-bits will be representing the other digit and so on...\n",
    "\n",
    "Example: \n",
    "\n",
    "Let's consider a sequence containing $257$ zeros and $2$ ones and $n=8$ bits.\n",
    "\n",
    "Since it's not possible to have a counter equal to $0$, we subtract $1$ from each counter. So we will encode $256$ zeros and $1$ one.\n",
    "\n",
    "As $256 > 2^n -1 = 255$, we will encode the zeros with two arrays: $[1,1,1,1,1,1,1,1]$ and $[0,0,0,0,0,0,1,0]$. Which represent $254 + 2 = 256$ (we add the two arrays).\n",
    "\n",
    "As $1 < 255$, the ones will be encoded with one single array: $[0,0,0,0,0,0,0,0]$.\n",
    "\n",
    "Finally, our encoded sequence will be (the first item of the array is $0$ because the sequence is beginning with a zero): \n",
    "\n",
    "$[0,\\quad 1,1,1,1,1,1,1,1,\\quad  0,0,0,0,0,0,1,0,\\quad  0,0,0,0,0,0,0,1]$"
   ]
  },
  {
   "cell_type": "code",
   "execution_count": 9,
   "metadata": {},
   "outputs": [],
   "source": [
    "def to_dec(l): #transforms an array of digits (0 and 1) into an integer\n",
    "    l.reverse()\n",
    "    return sum([2**i for i,x in enumerate(l) if x==1])\n",
    "\n",
    "def to_bin(a, n): #transforms an integer into an array of digits (0 and 1) of size n \n",
    "    return [int(x) for x in list(('{0:0'+str(n)+'b}').format(a))]\n",
    "\n",
    "def count(data, i): #returns the length of sub-sequences containing the same digit \n",
    "    cnt = 0\n",
    "    while i+cnt+1<len(data) and data[i+cnt]==data[i+cnt+1]:\n",
    "        cnt+=1\n",
    "    return cnt\n",
    "\n",
    "def rle_encode(data, n=8): #encodes a given sequence with 8-bit long counters\n",
    "    i = 0\n",
    "    out = [data[0]]\n",
    "    while i<len(data):\n",
    "        cnt = count(data, i)\n",
    "        while cnt > (2**n)-1-1: \n",
    "            out.extend([1]*n) #if the counter is > 2^n we add to the result an array of n 1 \n",
    "            cnt-=(2**n)-1 #update of counter (counter = counter - 2^n)\n",
    "            i+=(2**n)-1\n",
    "        out.extend(to_bin(cnt, n))#adding to result an array containing the counter (in binary)\n",
    "        i+=cnt+1\n",
    "    return out\n",
    "    \n",
    "def rle_decode(data, n=8): #decodes an array with 8-bit long counters into a sequence of digits\n",
    "    i = 1\n",
    "    out = []\n",
    "    cur = data[0] #current digit\n",
    "    while i < len(data):\n",
    "        l_total = l = to_dec(data[i:i+n])#get the n first digits of encoded array i.e. counter value\n",
    "        while l==(2**n)-1: #iterating through subarrays while the counter value contained in subarray is equal to 2^n\n",
    "            i+=n\n",
    "            l = to_dec(data[i:i+n])\n",
    "            l_total += l #update total length of current subsequence\n",
    "        out.extend([cur]*(l_total+1))#adding subsequence to result\n",
    "        cur = 1 if cur==0 else 0 #update current digit\n",
    "        i+=n\n",
    "    return out\n",
    "    "
   ]
  },
  {
   "cell_type": "code",
   "execution_count": 10,
   "metadata": {},
   "outputs": [],
   "source": [
    "rle = rle_encode(im) #encodes image"
   ]
  },
  {
   "cell_type": "code",
   "execution_count": 11,
   "metadata": {},
   "outputs": [
    {
     "name": "stdout",
     "output_type": "stream",
     "text": [
      "size of rle file 238516 octets\n"
     ]
    }
   ],
   "source": [
    "with open(\"scan.rle\", \"wb\") as f:\n",
    "    n=8\n",
    "    f.write(bytes([rle[0]]))\n",
    "    l = [to_dec(rle[i:i+n]) for i in range(1, len(rle), n)]\n",
    "    f.write(bytes(l))\n",
    "print(\"size of rle file %s octets\"%int((len(rle)+7)/8))"
   ]
  },
  {
   "cell_type": "code",
   "execution_count": null,
   "metadata": {},
   "outputs": [],
   "source": []
  },
  {
   "cell_type": "code",
   "execution_count": 12,
   "metadata": {},
   "outputs": [],
   "source": [
    "im2 = rle_decode(rle) #decodes image"
   ]
  },
  {
   "cell_type": "markdown",
   "metadata": {},
   "source": [
    "Finally, we display the image that has been encoded and decoded with RLE to check wether the encoding works. We generate the image from an array containing pixel values with matplotlib library. The generated "
   ]
  },
  {
   "cell_type": "code",
   "execution_count": 13,
   "metadata": {},
   "outputs": [],
   "source": [
    "from PIL import Image\n",
    "import numpy as np\n",
    "\n",
    "w, h = img.size\n",
    "data = np.array(im2, dtype=np.uint8)\n",
    "data = np.reshape(data, (h, w))"
   ]
  },
  {
   "cell_type": "code",
   "execution_count": 14,
   "metadata": {},
   "outputs": [
    {
     "data": {
      "image/png": "[encoded data removed]",
      "text/plain": [
       "<Figure size 1440x720 with 1 Axes>"
      ]
     },
     "metadata": {
      "needs_background": "light"
     },
     "output_type": "display_data"
    }
   ],
   "source": [
    "import matplotlib.pyplot as plt\n",
    "import matplotlib.image as mpimg\n",
    "\n",
    "plt.figure(figsize = (20,10))\n",
    "plt.imshow(data, cmap='Greys_r')\n",
    "mpimg.imsave(\"scan2.png\", data, cmap='Greys_r')"
   ]
  }
 ],
 "metadata": {
  "kernelspec": {
   "display_name": "Python 3",
   "language": "python",
   "name": "python3"
  },
  "language_info": {
   "codemirror_mode": {
    "name": "ipython",
    "version": 3
   },
   "file_extension": ".py",
   "mimetype": "text/x-python",
   "name": "python",
   "nbconvert_exporter": "python",
   "pygments_lexer": "ipython3",
   "version": "3.7.6"
  }
 },
 "nbformat": 4,
 "nbformat_minor": 4
}
