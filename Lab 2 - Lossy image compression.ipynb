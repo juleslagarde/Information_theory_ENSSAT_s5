{
 "cells": [
  {
   "cell_type": "markdown",
   "metadata": {},
   "source": [
    "Authors : <br> \n",
    "Remy Cordeau <br>\n",
    "Jules Lagarde <br>\n",
    "## Question 2 and 3"
   ]
  },
  {
   "cell_type": "code",
   "execution_count": 2,
   "metadata": {},
   "outputs": [],
   "source": [
    "from sklearn.cluster import KMeans\n",
    "import matplotlib.pyplot as plt\n",
    "import matplotlib.image as mpimg\n",
    "import numpy as np\n",
    "\n",
    "\n",
    "sbird_2d = np.array(mpimg.imread(\"bird_small.tiff\"))\n",
    "sbird = np.reshape(sbird_2d, (-1, 3))\n",
    "kmeans = KMeans(n_clusters=10)\n",
    "kmeans.fit(sbird)\n",
    "sbird_sd = np.uint8([kmeans.cluster_centers_[l] for l in kmeans.labels_])\n",
    "\n",
    "sbird_sd_2d = np.reshape(sbird_sd, sbird_2d.shape)\n",
    "mpimg.imsave(\"bird_small_sd.tiff\", sbird_sd_2d)\n"
   ]
  },
  {
   "cell_type": "code",
   "execution_count": 3,
   "metadata": {},
   "outputs": [
    {
     "data": {
      "text/plain": [
       "(128, 128, 3)"
      ]
     },
     "execution_count": 3,
     "metadata": {},
     "output_type": "execute_result"
    }
   ],
   "source": [
    "sbird_2d.shape"
   ]
  },
  {
   "cell_type": "markdown",
   "metadata": {},
   "source": [
    "## Question 4"
   ]
  },
  {
   "cell_type": "code",
   "execution_count": 4,
   "metadata": {},
   "outputs": [
    {
     "name": "stdout",
     "output_type": "stream",
     "text": [
      "76.10701497395833 29.316556722435692\n"
     ]
    }
   ],
   "source": [
    "from sklearn.metrics import mean_squared_error\n",
    "import math\n",
    "\n",
    "mse = mean_squared_error(sbird, sbird_sd, squared=True)\n",
    "psnr = lambda x:10*math.log10((255**2)/x)\n",
    "print(mse, psnr(mse))"
   ]
  },
  {
   "cell_type": "code",
   "execution_count": 5,
   "metadata": {},
   "outputs": [
    {
     "data": {
      "text/plain": [
       "array([[220, 178, 110],\n",
       "       [220, 178, 110],\n",
       "       [220, 178, 110],\n",
       "       ...,\n",
       "       [ 64,  59,  57],\n",
       "       [ 64,  59,  57],\n",
       "       [ 25,  26,  24]], dtype=uint8)"
      ]
     },
     "execution_count": 5,
     "metadata": {},
     "output_type": "execute_result"
    }
   ],
   "source": [
    "sbird_sd"
   ]
  },
  {
   "cell_type": "code",
   "execution_count": 6,
   "metadata": {},
   "outputs": [],
   "source": [
    "def rle_encode(data):\n",
    "    out=[]\n",
    "    i=0\n",
    "    while i<len(data):\n",
    "        cnt = 1\n",
    "        while i+1<len(data) and np.array_equal(data[i],data[i+1]):\n",
    "            cnt+=1\n",
    "            i+=1\n",
    "        out.append([data[i], cnt])\n",
    "        i+=1\n",
    "    return np.array(out)\n",
    "\n",
    "def coding_rate(data):\n",
    "    return (len(data[0])+1)*len(rle_encode(data))/len(data)*len(data[0])\n"
   ]
  },
  {
   "cell_type": "code",
   "execution_count": 7,
   "metadata": {},
   "outputs": [
    {
     "name": "stdout",
     "output_type": "stream",
     "text": [
      "2.8095703125 11.970703125\n"
     ]
    }
   ],
   "source": [
    "cr1 = coding_rate(sbird_sd)\n",
    "cr2 = coding_rate(sbird)\n",
    "print(cr1, cr2)"
   ]
  },
  {
   "cell_type": "markdown",
   "metadata": {},
   "source": [
    "## Question 5"
   ]
  },
  {
   "cell_type": "code",
   "execution_count": 8,
   "metadata": {},
   "outputs": [
    {
     "data": {
      "text/plain": [
       "[<matplotlib.lines.Line2D at 0x23345fd8f88>]"
      ]
     },
     "execution_count": 8,
     "metadata": {},
     "output_type": "execute_result"
    },
    {
     "data": {
      "image/png": "[encoded data removed]",
      "text/plain": [
       "<Figure size 432x288 with 1 Axes>"
      ]
     },
     "metadata": {
      "needs_background": "light"
     },
     "output_type": "display_data"
    }
   ],
   "source": [
    "rg = np.arange(2,20,1)\n",
    "psnr_data = []\n",
    "cr_data = []\n",
    "for k in rg:\n",
    "    km = KMeans(n_clusters=k)\n",
    "    km.fit(sbird)\n",
    "    sb_sd = np.uint8([km.cluster_centers_[l] for l in km.labels_])\n",
    "    psnr_data.append(psnr(mean_squared_error(sbird, sb_sd, squared=True)))\n",
    "    cr_data.append(coding_rate(sb_sd))\n",
    "    \n",
    "\n",
    "plt.plot(cr_data, psnr_data)"
   ]
  },
  {
   "cell_type": "markdown",
   "metadata": {},
   "source": [
    "We can observe that the curve seems to follow an affine law. (increasing)\n",
    "\n",
    "## Question 6\n",
    "\n",
    "The file is composed of a header and body.\n",
    "\n",
    "The header contains this fields in this order : <br>\n",
    "32 bit : image witdh <br>\n",
    "8 bit : number of cluster (k) <br>\n",
    "24*k : color of each cluster center <br>\n",
    "8 bit : rle counter size (n) <br>\n",
    "\n",
    "And the body contains the rle representation using information available in the header.\n"
   ]
  },
  {
   "cell_type": "code",
   "execution_count": 38,
   "metadata": {},
   "outputs": [],
   "source": [
    "class BitWriter:\n",
    "    def __init__(self, file):\n",
    "        self.f=file\n",
    "        self.buffer=[]\n",
    "        self.offset=0\n",
    "        \n",
    "    def write(self, v, nb_bit):\n",
    "        assert ((~(2**nb_bit-1)&v) == 0), \"the value v=%s doesn't fit inside %s bits\"%(v, nb_bit)\n",
    "        if self.offset > 0:\n",
    "            l = 8-self.offset\n",
    "            mask = (2**l-1)\n",
    "            if nb_bit < l:\n",
    "                self.buffer[len(self.buffer)-1] |= (v&mask)<<(l-nb_bit)\n",
    "            else:\n",
    "                self.buffer[len(self.buffer)-1] |= v&mask\n",
    "            v>>=l\n",
    "        mask = (2**8-1)\n",
    "        while nb_bit>=8:\n",
    "            vb = v&mask\n",
    "            self.buffer.append(vb)\n",
    "            v>>=8\n",
    "            nb_bit-=8\n",
    "        if nb_bit>0:\n",
    "            self.offset = nb_bit\n",
    "            self.buffer.append(v<<(8-nb_bit))\n",
    "        \n",
    "    def flush(self):\n",
    "        self.f.write(bytes(np.uint8(self.buffer)))\n",
    "        self.buffer=[]\n",
    "        self.offset=0\n",
    "\n",
    "\n",
    "def write_file(name, image_width, kmean_dict, rle_seq):\n",
    "    with open(name, \"wb\") as f:\n",
    "        length = f.write(bytes(np.uint32([image_width])))\n",
    "        nb_cluster = len(kmean_dict)\n",
    "        length += f.write(bytes(np.uint8([nb_cluster])))\n",
    "        for i in range(nb_cluster):\n",
    "            length += f.write(bytes(kmean_dict[i]))\n",
    "        counter_size = math.ceil(math.log2(max([v for _,v in rle_seq])))\n",
    "        cluster_index_size = math.ceil(math.log2(nb_cluster))\n",
    "        bw = BitWriter(f)\n",
    "        for i,c in rle_seq:\n",
    "            bw.write(i,cluster_index_size)\n",
    "            bw.write(c,counter_size)\n",
    "        length += len(bw.buffer)\n",
    "        bw.flush()\n",
    "        return length"
   ]
  },
  {
   "cell_type": "code",
   "execution_count": 39,
   "metadata": {},
   "outputs": [],
   "source": [
    "r = rle_encode(kmeans.labels_)\n",
    "\n",
    "length = write_file(\"bird_small.kmean.rle\", sbird_2d.shape[0], np.uint8(kmeans.cluster_centers_), r)\n"
   ]
  },
  {
   "cell_type": "code",
   "execution_count": null,
   "metadata": {},
   "outputs": [],
   "source": []
  }
 ],
 "metadata": {
  "kernelspec": {
   "display_name": "Python 3",
   "language": "python",
   "name": "python3"
  },
  "language_info": {
   "codemirror_mode": {
    "name": "ipython",
    "version": 3
   },
   "file_extension": ".py",
   "mimetype": "text/x-python",
   "name": "python",
   "nbconvert_exporter": "python",
   "pygments_lexer": "ipython3",
   "version": "3.7.6"
  }
 },
 "nbformat": 4,
 "nbformat_minor": 4
}
