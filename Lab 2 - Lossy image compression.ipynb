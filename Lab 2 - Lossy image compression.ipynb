{
 "cells": [
  {
   "cell_type": "markdown",
   "metadata": {},
   "source": []
  },
  {
   "cell_type": "code",
   "execution_count": 30,
   "metadata": {},
   "outputs": [],
   "source": [
    "from sklearn.cluster import KMeans\n",
    "import matplotlib.pyplot as plt\n",
    "import matplotlib.image as mpimg\n",
    "import numpy as np\n",
    "\n",
    "\n",
    "sbird_2d = np.array(mpimg.imread(\"bird_small.tiff\"))\n",
    "sbird = np.reshape(sbird_2d, (-1, 3))\n",
    "kmeans = KMeans(n_clusters=16)\n",
    "kmeans.fit(sbird)\n",
    "sbird_sd = np.uint8([kmeans.cluster_centers_[l] for l in kmeans.labels_])\n",
    "\n",
    "sbird_sd_2d = np.reshape(sbird_sd, sbird_2d.shape)\n",
    "mpimg.imsave(\"bird_small_sd.tiff\", sbird_sd_2d)\n",
    "    "
   ]
  },
  {
   "cell_type": "code",
   "execution_count": 20,
   "metadata": {},
   "outputs": [
    {
     "data": {
      "text/plain": [
       "(128, 128, 3)"
      ]
     },
     "execution_count": 20,
     "metadata": {},
     "output_type": "execute_result"
    }
   ],
   "source": [
    "sbird_2d.shape"
   ]
  },
  {
   "cell_type": "code",
   "execution_count": 56,
   "metadata": {},
   "outputs": [
    {
     "name": "stdout",
     "output_type": "stream",
     "text": [
      "63.566507975260414 30.098520067401214\n"
     ]
    }
   ],
   "source": [
    "from sklearn.metrics import mean_squared_error\n",
    "import math\n",
    "\n",
    "mse = mean_squared_error(sbird, sbird_sd, squared=True)\n",
    "psnr = lambda x:10*math.log10((255**2)/x)\n",
    "print(mse, psnr(mse))"
   ]
  },
  {
   "cell_type": "code",
   "execution_count": 55,
   "metadata": {},
   "outputs": [],
   "source": [
    "def rle_encode(data):\n",
    "    out=[]\n",
    "    i=0\n",
    "    while i<len(data):\n",
    "        cnt = 1\n",
    "        while i+1<len(data) and np.array_equal(data[i],data[i+1]):\n",
    "            cnt+=1\n",
    "            i+=1\n",
    "        out.append([data[i], cnt])\n",
    "        i+=1\n",
    "    return np.array(out)\n",
    "\n",
    "def coding_rate(data):\n",
    "    return len(rle_encode(data))/len(data)\n"
   ]
  },
  {
   "cell_type": "code",
   "execution_count": 54,
   "metadata": {},
   "outputs": [
    {
     "name": "stdout",
     "output_type": "stream",
     "text": [
      "0.2830810546875 0.99755859375\n"
     ]
    }
   ],
   "source": [
    "cr1 = coding_rate(sbird_sd)\n",
    "cr2 = coding_rate(sbird)\n",
    "print(cr1, cr2)"
   ]
  },
  {
   "cell_type": "code",
   "execution_count": 63,
   "metadata": {},
   "outputs": [
    {
     "data": {
      "text/plain": [
       "[<matplotlib.lines.Line2D at 0x202f2dc5c88>]"
      ]
     },
     "execution_count": 63,
     "metadata": {},
     "output_type": "execute_result"
    },
    {
     "data": {
      "image/png": "[encoded data removed]",
      "text/plain": [
       "<Figure size 432x288 with 1 Axes>"
      ]
     },
     "metadata": {
      "needs_background": "light"
     },
     "output_type": "display_data"
    },
    {
     "data": {
      "image/png": "[encoded data removed]",
      "text/plain": [
       "<Figure size 432x288 with 1 Axes>"
      ]
     },
     "metadata": {
      "needs_background": "light"
     },
     "output_type": "display_data"
    }
   ],
   "source": [
    "rg = np.arange(2,20,1)\n",
    "psnr_data = []\n",
    "cr_data = []\n",
    "for k in rg:\n",
    "    km = KMeans(n_clusters=k)\n",
    "    km.fit(sbird)\n",
    "    sb_sd = np.uint8([km.cluster_centers_[l] for l in km.labels_])\n",
    "    psnr_data.append(psnr(mean_squared_error(sbird, sb_sd, squared=True)))\n",
    "    cr_data.append(coding_rate(sb_sd))\n",
    "    \n",
    "\n",
    "plt.plot(rg, psnr_data)\n",
    "plt.figure(2)\n",
    "plt.plot(rg, cr_data)"
   ]
  },
  {
   "cell_type": "markdown",
   "metadata": {},
   "source": [
    "\n",
    "32 bit : image witdh\n",
    "8 bit : number of cluster (k)\n",
    "24*k : cluster colors\n",
    "8 bit : rle counter size (n)\n"
   ]
  },
  {
   "cell_type": "code",
   "execution_count": 137,
   "metadata": {},
   "outputs": [],
   "source": [
    "class BitWriter:\n",
    "    def __init__(self, file):\n",
    "        self.f=file\n",
    "        self.buffer=[]\n",
    "        self.offset=0\n",
    "        \n",
    "    def write(self, v, nb_bit):\n",
    "        if self.offset > 0:\n",
    "            l = 8-self.offset\n",
    "            mask = (2**l-1)\n",
    "            if nb_bit < l:\n",
    "                self.buffer[len(self.buffer)-1] |= (v&mask)<<(l-nb_bit)\n",
    "            else:\n",
    "                self.buffer[len(self.buffer)-1] |= v&mask\n",
    "            v>>=l\n",
    "        mask = (2**8-1)\n",
    "        while nb_bit>=8:\n",
    "            vb = v&mask\n",
    "            self.buffer.append(vb)\n",
    "            v>>=8\n",
    "            nb_bit-=8\n",
    "        if nb_bit>0:\n",
    "            self.offset = nb_bit\n",
    "            self.buffer.append(v<<(8-nb_bit))\n",
    "        \n",
    "    def flush(self):\n",
    "        self.f.write(bytes(np.uint8(self.buffer)))\n",
    "        self.buffer=[]\n",
    "        self.offset=0\n",
    "        \n",
    "\n",
    "        \n",
    "\n",
    "def write_file(name, image_width, kmean_dict, rle_seq):\n",
    "    with open(name, \"wb\") as f:\n",
    "        length = f.write(bytes(np.uint32([image_width])))\n",
    "        nb_cluster = len(kmean_dict)\n",
    "        length += f.write(bytes(np.uint8([nb_cluster])))\n",
    "        for i in range(nb_cluster):\n",
    "            length += f.write(bytes(kmean_dict[i]))\n",
    "        counter_size = math.ceil(math.log2(max([v for _,v in rle_seq])))\n",
    "        cluster_index_size = math.ceil(math.log2(nb_cluster))\n",
    "        bw = BitWriter(f)\n",
    "        for i,c in rle_seq:\n",
    "            bw.write(i,cluster_index_size)\n",
    "            bw.write(c,counter_size)\n",
    "        length += len(bw.buffer)\n",
    "        bw.flush()\n",
    "        return length\n"
   ]
  },
  {
   "cell_type": "code",
   "execution_count": 138,
   "metadata": {},
   "outputs": [],
   "source": [
    "r = rle_encode(kmeans.labels_)\n",
    "\n",
    "length = write_file(\"bird_small.kmean.rle\", sbird_2d.shape[0], np.uint8(kmeans.cluster_centers_), r)\n"
   ]
  },
  {
   "cell_type": "code",
   "execution_count": 130,
   "metadata": {},
   "outputs": [
    {
     "data": {
      "text/plain": [
       "9329"
      ]
     },
     "execution_count": 130,
     "metadata": {},
     "output_type": "execute_result"
    }
   ],
   "source": [
    "length"
   ]
  },
  {
   "cell_type": "code",
   "execution_count": 100,
   "metadata": {},
   "outputs": [
    {
     "data": {
      "text/plain": [
       "array([0, 0, 0, 0, 0, 0, 0, 0], dtype=uint8)"
      ]
     },
     "execution_count": 100,
     "metadata": {},
     "output_type": "execute_result"
    }
   ],
   "source": [
    "b=np.array([0]*8, dtype=\"uint8\")\n",
    "b[1]=256\n",
    "b\n",
    "\n",
    "256\n",
    "[\"00000000\", \"10000000\"]"
   ]
  },
  {
   "cell_type": "code",
   "execution_count": 102,
   "metadata": {},
   "outputs": [
    {
     "data": {
      "text/plain": [
       "4"
      ]
     },
     "execution_count": 102,
     "metadata": {},
     "output_type": "execute_result"
    }
   ],
   "source": [
    "math.ceil(math.log2(16))"
   ]
  },
  {
   "cell_type": "code",
   "execution_count": 104,
   "metadata": {},
   "outputs": [],
   "source": []
  },
  {
   "cell_type": "code",
   "execution_count": 120,
   "metadata": {},
   "outputs": [
    {
     "name": "stdout",
     "output_type": "stream",
     "text": [
      "01000001 00100000 00000000 "
     ]
    }
   ],
   "source": [
    "bw = BitWriter(0)\n",
    "bw.write(1,2)\n",
    "bw.write(1,8)\n",
    "bw.write(1,1)\n",
    "for b in bw.buffer:\n",
    "    print(\"{0:08b}\".format(b), end=\" \")"
   ]
  },
  {
   "cell_type": "code",
   "execution_count": null,
   "metadata": {},
   "outputs": [],
   "source": []
  }
 ],
 "metadata": {
  "kernelspec": {
   "display_name": "Python 3",
   "language": "python",
   "name": "python3"
  },
  "language_info": {
   "codemirror_mode": {
    "name": "ipython",
    "version": 3
   },
   "file_extension": ".py",
   "mimetype": "text/x-python",
   "name": "python",
   "nbconvert_exporter": "python",
   "pygments_lexer": "ipython3",
   "version": "3.7.6"
  }
 },
 "nbformat": 4,
 "nbformat_minor": 4
}
